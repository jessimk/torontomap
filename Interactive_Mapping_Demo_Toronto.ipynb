{
 "cells": [
  {
   "cell_type": "code",
   "execution_count": null,
   "metadata": {},
   "outputs": [],
   "source": [
    "import folium\n",
    "from folium.plugins import MarkerCluster, FeatureGroupSubGroup\n",
    "\n",
    "import geopandas as gpd\n",
    "import pandas as pd\n",
    "\n",
    "import matplotlib.pyplot as plt"
   ]
  },
  {
   "cell_type": "markdown",
   "metadata": {},
   "source": [
    "# Demographics\n",
    "\n",
    "From:\n",
    "\n",
    "https://www.toronto.ca/city-government/data-research-maps/neighbourhoods-communities/wellbeing-toronto/"
   ]
  },
  {
   "cell_type": "code",
   "execution_count": null,
   "metadata": {},
   "outputs": [],
   "source": [
    "demogs = pd.read_csv(\"wellbeing_toronto.csv\")"
   ]
  },
  {
   "cell_type": "code",
   "execution_count": null,
   "metadata": {},
   "outputs": [],
   "source": [
    "cols = demogs.columns\n",
    "demogs.columns = cols.str.replace(\" \", \"_\")"
   ]
  },
  {
   "cell_type": "code",
   "execution_count": null,
   "metadata": {},
   "outputs": [],
   "source": [
    "demogs = demogs.drop(columns=['Combined_Indicators'], axis=1)"
   ]
  },
  {
   "cell_type": "code",
   "execution_count": null,
   "metadata": {},
   "outputs": [],
   "source": [
    "demogs.sample(5)"
   ]
  },
  {
   "cell_type": "markdown",
   "metadata": {},
   "source": [
    "# Neighbourhoods\n",
    "\n",
    "From: https://data.torontopolice.on.ca/datasets/neighbourhood-crime-rates-boundary-file-"
   ]
  },
  {
   "cell_type": "code",
   "execution_count": 6,
   "metadata": {},
   "outputs": [],
   "source": [
    "neighbourhoods = gpd.read_file(\"tor_Neighbourhood_Crime_Rates_Boundary_File_.shp\")"
   ]
  },
  {
   "cell_type": "code",
   "execution_count": 7,
   "metadata": {},
   "outputs": [
    {
     "data": {
      "text/html": [
       "<div>\n",
       "<style scoped>\n",
       "    .dataframe tbody tr th:only-of-type {\n",
       "        vertical-align: middle;\n",
       "    }\n",
       "\n",
       "    .dataframe tbody tr th {\n",
       "        vertical-align: top;\n",
       "    }\n",
       "\n",
       "    .dataframe thead th {\n",
       "        text-align: right;\n",
       "    }\n",
       "</style>\n",
       "<table border=\"1\" class=\"dataframe\">\n",
       "  <thead>\n",
       "    <tr style=\"text-align: right;\">\n",
       "      <th></th>\n",
       "      <th>OBJECTID</th>\n",
       "      <th>Neighbourh</th>\n",
       "      <th>Neighbou_1</th>\n",
       "      <th>Hood_ID</th>\n",
       "      <th>Neighbou_2</th>\n",
       "      <th>Assault_20</th>\n",
       "      <th>Assault__1</th>\n",
       "      <th>Assault__2</th>\n",
       "      <th>Assault__3</th>\n",
       "      <th>Assault__4</th>\n",
       "      <th>...</th>\n",
       "      <th>Homicide_3</th>\n",
       "      <th>Homicide_4</th>\n",
       "      <th>Homicide_5</th>\n",
       "      <th>Homicide_A</th>\n",
       "      <th>Homicide_C</th>\n",
       "      <th>Homicide_R</th>\n",
       "      <th>Population</th>\n",
       "      <th>Shape__Are</th>\n",
       "      <th>Shape__Len</th>\n",
       "      <th>geometry</th>\n",
       "    </tr>\n",
       "  </thead>\n",
       "  <tbody>\n",
       "    <tr>\n",
       "      <th>118</th>\n",
       "      <td>119</td>\n",
       "      <td>Weston</td>\n",
       "      <td>113</td>\n",
       "      <td>113</td>\n",
       "      <td>Weston</td>\n",
       "      <td>43</td>\n",
       "      <td>45</td>\n",
       "      <td>43</td>\n",
       "      <td>46</td>\n",
       "      <td>32</td>\n",
       "      <td>...</td>\n",
       "      <td>3</td>\n",
       "      <td>1</td>\n",
       "      <td>1</td>\n",
       "      <td>1.7</td>\n",
       "      <td>0%</td>\n",
       "      <td>8.8</td>\n",
       "      <td>11424</td>\n",
       "      <td>2.565538e+06</td>\n",
       "      <td>10202.394100</td>\n",
       "      <td>POLYGON ((620624.17 4838946.7149, 620610.3339 ...</td>\n",
       "    </tr>\n",
       "    <tr>\n",
       "      <th>49</th>\n",
       "      <td>50</td>\n",
       "      <td>Old East York</td>\n",
       "      <td>058</td>\n",
       "      <td>58</td>\n",
       "      <td>Old East York</td>\n",
       "      <td>102</td>\n",
       "      <td>115</td>\n",
       "      <td>108</td>\n",
       "      <td>96</td>\n",
       "      <td>91</td>\n",
       "      <td>...</td>\n",
       "      <td>1</td>\n",
       "      <td>0</td>\n",
       "      <td>2</td>\n",
       "      <td>1.5</td>\n",
       "      <td>N/A</td>\n",
       "      <td>12.0</td>\n",
       "      <td>16619</td>\n",
       "      <td>2.349933e+06</td>\n",
       "      <td>7485.024652</td>\n",
       "      <td>POLYGON ((632896.6226999999 4839587.2695, 6329...</td>\n",
       "    </tr>\n",
       "    <tr>\n",
       "      <th>83</th>\n",
       "      <td>84</td>\n",
       "      <td>L'Amoreaux</td>\n",
       "      <td>117</td>\n",
       "      <td>117</td>\n",
       "      <td>L'Amoreaux</td>\n",
       "      <td>68</td>\n",
       "      <td>93</td>\n",
       "      <td>80</td>\n",
       "      <td>106</td>\n",
       "      <td>85</td>\n",
       "      <td>...</td>\n",
       "      <td>2</td>\n",
       "      <td>1</td>\n",
       "      <td>0</td>\n",
       "      <td>1.3</td>\n",
       "      <td>-100%</td>\n",
       "      <td>0.0</td>\n",
       "      <td>29728</td>\n",
       "      <td>7.154891e+06</td>\n",
       "      <td>12565.627127</td>\n",
       "      <td>POLYGON ((637670.0624000001 4850424.0983, 6376...</td>\n",
       "    </tr>\n",
       "    <tr>\n",
       "      <th>112</th>\n",
       "      <td>113</td>\n",
       "      <td>Woodbine-Lumsden</td>\n",
       "      <td>060</td>\n",
       "      <td>60</td>\n",
       "      <td>Woodbine-Lumsden</td>\n",
       "      <td>99</td>\n",
       "      <td>108</td>\n",
       "      <td>111</td>\n",
       "      <td>95</td>\n",
       "      <td>141</td>\n",
       "      <td>...</td>\n",
       "      <td>0</td>\n",
       "      <td>1</td>\n",
       "      <td>0</td>\n",
       "      <td>1</td>\n",
       "      <td>-100%</td>\n",
       "      <td>0.0</td>\n",
       "      <td>9183</td>\n",
       "      <td>1.196244e+06</td>\n",
       "      <td>4871.174075</td>\n",
       "      <td>POLYGON ((635572.9808 4839311.768, 635545.5368...</td>\n",
       "    </tr>\n",
       "    <tr>\n",
       "      <th>26</th>\n",
       "      <td>27</td>\n",
       "      <td>Corso Italia-Davenport</td>\n",
       "      <td>092</td>\n",
       "      <td>92</td>\n",
       "      <td>Corso Italia-Davenport</td>\n",
       "      <td>93</td>\n",
       "      <td>98</td>\n",
       "      <td>106</td>\n",
       "      <td>90</td>\n",
       "      <td>100</td>\n",
       "      <td>...</td>\n",
       "      <td>0</td>\n",
       "      <td>0</td>\n",
       "      <td>0</td>\n",
       "      <td>1</td>\n",
       "      <td>N/A</td>\n",
       "      <td>0.0</td>\n",
       "      <td>11380</td>\n",
       "      <td>1.884658e+06</td>\n",
       "      <td>6077.824890</td>\n",
       "      <td>POLYGON ((626059.2038 4837315.5168, 626063.944...</td>\n",
       "    </tr>\n",
       "  </tbody>\n",
       "</table>\n",
       "<p>5 rows × 57 columns</p>\n",
       "</div>"
      ],
      "text/plain": [
       "     OBJECTID              Neighbourh Neighbou_1  Hood_ID  \\\n",
       "118       119                  Weston        113      113   \n",
       "49         50           Old East York        058       58   \n",
       "83         84              L'Amoreaux        117      117   \n",
       "112       113        Woodbine-Lumsden        060       60   \n",
       "26         27  Corso Italia-Davenport        092       92   \n",
       "\n",
       "                 Neighbou_2  Assault_20  Assault__1  Assault__2  Assault__3  \\\n",
       "118                  Weston          43          45          43          46   \n",
       "49            Old East York         102         115         108          96   \n",
       "83               L'Amoreaux          68          93          80         106   \n",
       "112        Woodbine-Lumsden          99         108         111          95   \n",
       "26   Corso Italia-Davenport          93          98         106          90   \n",
       "\n",
       "     Assault__4  ...  Homicide_3 Homicide_4  Homicide_5  Homicide_A  \\\n",
       "118          32  ...           3          1           1         1.7   \n",
       "49           91  ...           1          0           2         1.5   \n",
       "83           85  ...           2          1           0         1.3   \n",
       "112         141  ...           0          1           0           1   \n",
       "26          100  ...           0          0           0           1   \n",
       "\n",
       "     Homicide_C  Homicide_R  Population    Shape__Are    Shape__Len  \\\n",
       "118          0%         8.8       11424  2.565538e+06  10202.394100   \n",
       "49          N/A        12.0       16619  2.349933e+06   7485.024652   \n",
       "83        -100%         0.0       29728  7.154891e+06  12565.627127   \n",
       "112       -100%         0.0        9183  1.196244e+06   4871.174075   \n",
       "26          N/A         0.0       11380  1.884658e+06   6077.824890   \n",
       "\n",
       "                                              geometry  \n",
       "118  POLYGON ((620624.17 4838946.7149, 620610.3339 ...  \n",
       "49   POLYGON ((632896.6226999999 4839587.2695, 6329...  \n",
       "83   POLYGON ((637670.0624000001 4850424.0983, 6376...  \n",
       "112  POLYGON ((635572.9808 4839311.768, 635545.5368...  \n",
       "26   POLYGON ((626059.2038 4837315.5168, 626063.944...  \n",
       "\n",
       "[5 rows x 57 columns]"
      ]
     },
     "execution_count": 7,
     "metadata": {},
     "output_type": "execute_result"
    }
   ],
   "source": [
    "neighbourhoods.sample(5)"
   ]
  },
  {
   "cell_type": "code",
   "execution_count": 8,
   "metadata": {},
   "outputs": [],
   "source": [
    "neighbourhoods.Hood_ID = neighbourhoods.Hood_ID.astype(float)"
   ]
  },
  {
   "cell_type": "code",
   "execution_count": 9,
   "metadata": {},
   "outputs": [
    {
     "data": {
      "text/plain": [
       "Index(['OBJECTID', 'Neighbourh', 'Neighbou_1', 'Hood_ID', 'Neighbou_2',\n",
       "       'Assault_20', 'Assault__1', 'Assault__2', 'Assault__3', 'Assault__4',\n",
       "       'Assault_AV', 'Assault_CH', 'Assault_Ra', 'Auto_Theft', 'Auto_The_1',\n",
       "       'Auto_The_2', 'Auto_The_3', 'Auto_The_4', 'AutoTheft_', 'AutoThef_1',\n",
       "       'AutoThef_2', 'BreakandEn', 'Breakand_1', 'Breakand_2', 'Breakand_3',\n",
       "       'Breakand_4', 'Breakand_5', 'Breakand_6', 'Breakand_7', 'Robbery_20',\n",
       "       'Robbery__1', 'Robbery__2', 'Robbery__3', 'Robbery__4', 'Robbery_AV',\n",
       "       'Robbery_CH', 'Robbery_Ra', 'Theft_Over', 'Theft_Ov_1', 'Theft_Ov_2',\n",
       "       'Theft_Ov_3', 'Theft_Ov_4', 'TheftOver_', 'TheftOve_1', 'TheftOve_2',\n",
       "       'Homicide_2', 'Homicide_1', 'Homicide_3', 'Homicide_4', 'Homicide_5',\n",
       "       'Homicide_A', 'Homicide_C', 'Homicide_R', 'Population', 'Shape__Are',\n",
       "       'Shape__Len', 'geometry'],\n",
       "      dtype='object')"
      ]
     },
     "execution_count": 9,
     "metadata": {},
     "output_type": "execute_result"
    }
   ],
   "source": [
    "neighbourhoods.columns"
   ]
  },
  {
   "cell_type": "code",
   "execution_count": 10,
   "metadata": {},
   "outputs": [],
   "source": [
    "neighbourhoods = neighbourhoods.drop(columns=['OBJECTID', 'Neighbou_1', 'Neighbou_2',\n",
    "       'Assault_20', 'Assault__1', 'Assault__2', 'Assault__3', 'Assault__4',\n",
    "       'Assault_AV', 'Assault_CH', 'Assault_Ra', 'Auto_Theft', 'Auto_The_1',\n",
    "       'Auto_The_2', 'Auto_The_3', 'Auto_The_4', 'AutoTheft_', 'AutoThef_1',\n",
    "       'AutoThef_2', 'BreakandEn', 'Breakand_1', 'Breakand_2', 'Breakand_3',\n",
    "       'Breakand_4', 'Breakand_5', 'Breakand_6', 'Breakand_7', 'Robbery_20',\n",
    "       'Robbery__1', 'Robbery__2', 'Robbery__3', 'Robbery__4', 'Robbery_AV',\n",
    "       'Robbery_CH', 'Robbery_Ra', 'Theft_Over', 'Theft_Ov_1', 'Theft_Ov_2',\n",
    "       'Theft_Ov_3', 'Theft_Ov_4', 'TheftOver_', 'TheftOve_1', 'TheftOve_2',\n",
    "       'Homicide_2', 'Homicide_1', 'Homicide_3', 'Homicide_4', 'Homicide_5',\n",
    "       'Homicide_A', 'Homicide_C', 'Homicide_R'], axis=1)"
   ]
  },
  {
   "cell_type": "code",
   "execution_count": 11,
   "metadata": {},
   "outputs": [],
   "source": [
    "neighbourhoods['Neighbourhood_Id'] = neighbourhoods.Hood_ID"
   ]
  },
  {
   "cell_type": "code",
   "execution_count": 12,
   "metadata": {},
   "outputs": [
    {
     "data": {
      "text/html": [
       "<div>\n",
       "<style scoped>\n",
       "    .dataframe tbody tr th:only-of-type {\n",
       "        vertical-align: middle;\n",
       "    }\n",
       "\n",
       "    .dataframe tbody tr th {\n",
       "        vertical-align: top;\n",
       "    }\n",
       "\n",
       "    .dataframe thead th {\n",
       "        text-align: right;\n",
       "    }\n",
       "</style>\n",
       "<table border=\"1\" class=\"dataframe\">\n",
       "  <thead>\n",
       "    <tr style=\"text-align: right;\">\n",
       "      <th></th>\n",
       "      <th>Neighbourh</th>\n",
       "      <th>Hood_ID</th>\n",
       "      <th>Population</th>\n",
       "      <th>Shape__Are</th>\n",
       "      <th>Shape__Len</th>\n",
       "      <th>geometry</th>\n",
       "      <th>Neighbourhood_Id</th>\n",
       "    </tr>\n",
       "  </thead>\n",
       "  <tbody>\n",
       "    <tr>\n",
       "      <th>111</th>\n",
       "      <td>Woburn</td>\n",
       "      <td>137.0</td>\n",
       "      <td>34912</td>\n",
       "      <td>1.233407e+07</td>\n",
       "      <td>18111.265199</td>\n",
       "      <td>POLYGON ((643995.9336 4845564.4943, 643990.221...</td>\n",
       "      <td>137.0</td>\n",
       "    </tr>\n",
       "    <tr>\n",
       "      <th>103</th>\n",
       "      <td>Rexdale-Kipling</td>\n",
       "      <td>4.0</td>\n",
       "      <td>6862</td>\n",
       "      <td>2.505576e+06</td>\n",
       "      <td>7067.058558</td>\n",
       "      <td>POLYGON ((616383.4884 4841023.0371, 616390.132...</td>\n",
       "      <td>4.0</td>\n",
       "    </tr>\n",
       "    <tr>\n",
       "      <th>136</th>\n",
       "      <td>Wychwood</td>\n",
       "      <td>94.0</td>\n",
       "      <td>7397</td>\n",
       "      <td>1.682111e+06</td>\n",
       "      <td>5435.022062</td>\n",
       "      <td>POLYGON ((626059.2038 4837315.5168, 626139.408...</td>\n",
       "      <td>94.0</td>\n",
       "    </tr>\n",
       "    <tr>\n",
       "      <th>113</th>\n",
       "      <td>Bayview Village</td>\n",
       "      <td>52.0</td>\n",
       "      <td>24547</td>\n",
       "      <td>5.159044e+06</td>\n",
       "      <td>9504.072053</td>\n",
       "      <td>POLYGON ((632015.8464 4847022.6326, 631977.706...</td>\n",
       "      <td>52.0</td>\n",
       "    </tr>\n",
       "    <tr>\n",
       "      <th>45</th>\n",
       "      <td>Bayview Woods-Steeles</td>\n",
       "      <td>49.0</td>\n",
       "      <td>8350</td>\n",
       "      <td>4.088934e+06</td>\n",
       "      <td>8253.154282</td>\n",
       "      <td>POLYGON ((628993.6406 4851050.5149, 629137.465...</td>\n",
       "      <td>49.0</td>\n",
       "    </tr>\n",
       "  </tbody>\n",
       "</table>\n",
       "</div>"
      ],
      "text/plain": [
       "                Neighbourh  Hood_ID  Population    Shape__Are    Shape__Len  \\\n",
       "111                 Woburn    137.0       34912  1.233407e+07  18111.265199   \n",
       "103        Rexdale-Kipling      4.0        6862  2.505576e+06   7067.058558   \n",
       "136               Wychwood     94.0        7397  1.682111e+06   5435.022062   \n",
       "113        Bayview Village     52.0       24547  5.159044e+06   9504.072053   \n",
       "45   Bayview Woods-Steeles     49.0        8350  4.088934e+06   8253.154282   \n",
       "\n",
       "                                              geometry  Neighbourhood_Id  \n",
       "111  POLYGON ((643995.9336 4845564.4943, 643990.221...             137.0  \n",
       "103  POLYGON ((616383.4884 4841023.0371, 616390.132...               4.0  \n",
       "136  POLYGON ((626059.2038 4837315.5168, 626139.408...              94.0  \n",
       "113  POLYGON ((632015.8464 4847022.6326, 631977.706...              52.0  \n",
       "45   POLYGON ((628993.6406 4851050.5149, 629137.465...              49.0  "
      ]
     },
     "execution_count": 12,
     "metadata": {},
     "output_type": "execute_result"
    }
   ],
   "source": [
    "neighbourhoods.sample(5)"
   ]
  },
  {
   "cell_type": "code",
   "execution_count": 13,
   "metadata": {
    "scrolled": true
   },
   "outputs": [
    {
     "data": {
      "text/plain": [
       "{'init': 'epsg:26717'}"
      ]
     },
     "execution_count": 13,
     "metadata": {},
     "output_type": "execute_result"
    }
   ],
   "source": [
    "neighbourhoods.crs"
   ]
  },
  {
   "cell_type": "markdown",
   "metadata": {},
   "source": [
    "### Same?"
   ]
  },
  {
   "cell_type": "code",
   "execution_count": 14,
   "metadata": {},
   "outputs": [
    {
     "data": {
      "text/plain": [
       "140"
      ]
     },
     "execution_count": 14,
     "metadata": {},
     "output_type": "execute_result"
    }
   ],
   "source": [
    "len(neighbourhoods.Hood_ID.unique())"
   ]
  },
  {
   "cell_type": "code",
   "execution_count": 15,
   "metadata": {},
   "outputs": [
    {
     "data": {
      "text/plain": [
       "140"
      ]
     },
     "execution_count": 15,
     "metadata": {},
     "output_type": "execute_result"
    }
   ],
   "source": [
    "len(demogs.Neighbourhood_Id.unique())"
   ]
  },
  {
   "cell_type": "markdown",
   "metadata": {},
   "source": [
    "Yes!"
   ]
  },
  {
   "cell_type": "markdown",
   "metadata": {},
   "source": [
    "# Merging"
   ]
  },
  {
   "cell_type": "code",
   "execution_count": 16,
   "metadata": {},
   "outputs": [],
   "source": [
    "neighbourhoods = neighbourhoods.merge(demogs, on='Neighbourhood_Id')"
   ]
  },
  {
   "cell_type": "code",
   "execution_count": 17,
   "metadata": {},
   "outputs": [
    {
     "data": {
      "text/html": [
       "<div>\n",
       "<style scoped>\n",
       "    .dataframe tbody tr th:only-of-type {\n",
       "        vertical-align: middle;\n",
       "    }\n",
       "\n",
       "    .dataframe tbody tr th {\n",
       "        vertical-align: top;\n",
       "    }\n",
       "\n",
       "    .dataframe thead th {\n",
       "        text-align: right;\n",
       "    }\n",
       "</style>\n",
       "<table border=\"1\" class=\"dataframe\">\n",
       "  <thead>\n",
       "    <tr style=\"text-align: right;\">\n",
       "      <th></th>\n",
       "      <th>Neighbourh</th>\n",
       "      <th>Hood_ID</th>\n",
       "      <th>Population</th>\n",
       "      <th>Shape__Are</th>\n",
       "      <th>Shape__Len</th>\n",
       "      <th>geometry</th>\n",
       "      <th>Neighbourhood_Id</th>\n",
       "      <th>Neighbourhood</th>\n",
       "      <th>Total_Population</th>\n",
       "      <th>Average_Family_Income</th>\n",
       "      <th>After-Tax_Household_Income</th>\n",
       "    </tr>\n",
       "  </thead>\n",
       "  <tbody>\n",
       "    <tr>\n",
       "      <th>132</th>\n",
       "      <td>Woodbine Corridor</td>\n",
       "      <td>64.0</td>\n",
       "      <td>10034</td>\n",
       "      <td>1.595684e+06</td>\n",
       "      <td>5428.087921</td>\n",
       "      <td>POLYGON ((635847.9969 4836016.8098, 635707.643...</td>\n",
       "      <td>64.0</td>\n",
       "      <td>Woodbine Corridor</td>\n",
       "      <td>12541.0</td>\n",
       "      <td>90338.0</td>\n",
       "      <td>63343.0</td>\n",
       "    </tr>\n",
       "    <tr>\n",
       "      <th>74</th>\n",
       "      <td>Rosedale-Moore Park</td>\n",
       "      <td>98.0</td>\n",
       "      <td>26195</td>\n",
       "      <td>4.669066e+06</td>\n",
       "      <td>9663.319804</td>\n",
       "      <td>POLYGON ((631915.8236 4836891.7833, 631846.729...</td>\n",
       "      <td>98.0</td>\n",
       "      <td>Rosedale-Moore Park</td>\n",
       "      <td>20923.0</td>\n",
       "      <td>249884.0</td>\n",
       "      <td>72915.0</td>\n",
       "    </tr>\n",
       "    <tr>\n",
       "      <th>20</th>\n",
       "      <td>Humbermede</td>\n",
       "      <td>22.0</td>\n",
       "      <td>6029</td>\n",
       "      <td>4.421665e+06</td>\n",
       "      <td>12445.721939</td>\n",
       "      <td>POLYGON ((618664.5042 4843429.3221, 618647.924...</td>\n",
       "      <td>22.0</td>\n",
       "      <td>Humbermede</td>\n",
       "      <td>15545.0</td>\n",
       "      <td>59697.0</td>\n",
       "      <td>48655.0</td>\n",
       "    </tr>\n",
       "    <tr>\n",
       "      <th>130</th>\n",
       "      <td>Moss Park</td>\n",
       "      <td>73.0</td>\n",
       "      <td>18649</td>\n",
       "      <td>1.413052e+06</td>\n",
       "      <td>6204.526297</td>\n",
       "      <td>POLYGON ((632898.4247 4834716.0865, 632871.368...</td>\n",
       "      <td>73.0</td>\n",
       "      <td>Moss Park</td>\n",
       "      <td>20506.0</td>\n",
       "      <td>87222.0</td>\n",
       "      <td>37295.0</td>\n",
       "    </tr>\n",
       "    <tr>\n",
       "      <th>75</th>\n",
       "      <td>Oakwood Village</td>\n",
       "      <td>107.0</td>\n",
       "      <td>28525</td>\n",
       "      <td>2.219473e+06</td>\n",
       "      <td>6334.989436</td>\n",
       "      <td>POLYGON ((624869.2848 4839019.6082, 624944.803...</td>\n",
       "      <td>107.0</td>\n",
       "      <td>Oakwood Village</td>\n",
       "      <td>21210.0</td>\n",
       "      <td>67809.0</td>\n",
       "      <td>46349.0</td>\n",
       "    </tr>\n",
       "  </tbody>\n",
       "</table>\n",
       "</div>"
      ],
      "text/plain": [
       "              Neighbourh  Hood_ID  Population    Shape__Are    Shape__Len  \\\n",
       "132    Woodbine Corridor     64.0       10034  1.595684e+06   5428.087921   \n",
       "74   Rosedale-Moore Park     98.0       26195  4.669066e+06   9663.319804   \n",
       "20            Humbermede     22.0        6029  4.421665e+06  12445.721939   \n",
       "130            Moss Park     73.0       18649  1.413052e+06   6204.526297   \n",
       "75       Oakwood Village    107.0       28525  2.219473e+06   6334.989436   \n",
       "\n",
       "                                              geometry  Neighbourhood_Id  \\\n",
       "132  POLYGON ((635847.9969 4836016.8098, 635707.643...              64.0   \n",
       "74   POLYGON ((631915.8236 4836891.7833, 631846.729...              98.0   \n",
       "20   POLYGON ((618664.5042 4843429.3221, 618647.924...              22.0   \n",
       "130  POLYGON ((632898.4247 4834716.0865, 632871.368...              73.0   \n",
       "75   POLYGON ((624869.2848 4839019.6082, 624944.803...             107.0   \n",
       "\n",
       "           Neighbourhood  Total_Population  Average_Family_Income  \\\n",
       "132    Woodbine Corridor           12541.0                90338.0   \n",
       "74   Rosedale-Moore Park           20923.0               249884.0   \n",
       "20            Humbermede           15545.0                59697.0   \n",
       "130            Moss Park           20506.0                87222.0   \n",
       "75       Oakwood Village           21210.0                67809.0   \n",
       "\n",
       "     After-Tax_Household_Income  \n",
       "132                     63343.0  \n",
       "74                      72915.0  \n",
       "20                      48655.0  \n",
       "130                     37295.0  \n",
       "75                      46349.0  "
      ]
     },
     "execution_count": 17,
     "metadata": {},
     "output_type": "execute_result"
    }
   ],
   "source": [
    "neighbourhoods.sample(5)"
   ]
  },
  {
   "cell_type": "code",
   "execution_count": 18,
   "metadata": {},
   "outputs": [
    {
     "data": {
      "image/png": "[encoded data removed]",
      "text/plain": [
       "<Figure size 432x288 with 1 Axes>"
      ]
     },
     "metadata": {},
     "output_type": "display_data"
    }
   ],
   "source": [
    "neighbourhoods.plot()\n",
    "plt.show()"
   ]
  },
  {
   "cell_type": "code",
   "execution_count": 19,
   "metadata": {},
   "outputs": [
    {
     "data": {
      "text/plain": [
       "{'init': 'epsg:26717'}"
      ]
     },
     "execution_count": 19,
     "metadata": {},
     "output_type": "execute_result"
    }
   ],
   "source": [
    "neighbourhoods.crs"
   ]
  },
  {
   "cell_type": "code",
   "execution_count": 20,
   "metadata": {},
   "outputs": [],
   "source": [
    "neighbourhoods = neighbourhoods.to_crs({'init': 'epsg:4326'})"
   ]
  },
  {
   "cell_type": "code",
   "execution_count": 21,
   "metadata": {},
   "outputs": [
    {
     "data": {
      "image/png": "[encoded data removed]",
      "text/plain": [
       "<Figure size 432x288 with 1 Axes>"
      ]
     },
     "metadata": {},
     "output_type": "display_data"
    }
   ],
   "source": [
    "neighbourhoods.plot()\n",
    "plt.show()"
   ]
  },
  {
   "cell_type": "markdown",
   "metadata": {},
   "source": [
    "# Creating Fake Clusters ...\n",
    "based off of income"
   ]
  },
  {
   "cell_type": "code",
   "execution_count": 22,
   "metadata": {},
   "outputs": [
    {
     "data": {
      "text/html": [
       "<div>\n",
       "<style scoped>\n",
       "    .dataframe tbody tr th:only-of-type {\n",
       "        vertical-align: middle;\n",
       "    }\n",
       "\n",
       "    .dataframe tbody tr th {\n",
       "        vertical-align: top;\n",
       "    }\n",
       "\n",
       "    .dataframe thead th {\n",
       "        text-align: right;\n",
       "    }\n",
       "</style>\n",
       "<table border=\"1\" class=\"dataframe\">\n",
       "  <thead>\n",
       "    <tr style=\"text-align: right;\">\n",
       "      <th></th>\n",
       "      <th>Neighbourh</th>\n",
       "      <th>Hood_ID</th>\n",
       "      <th>Population</th>\n",
       "      <th>Shape__Are</th>\n",
       "      <th>Shape__Len</th>\n",
       "      <th>geometry</th>\n",
       "      <th>Neighbourhood_Id</th>\n",
       "      <th>Neighbourhood</th>\n",
       "      <th>Total_Population</th>\n",
       "      <th>Average_Family_Income</th>\n",
       "      <th>After-Tax_Household_Income</th>\n",
       "    </tr>\n",
       "  </thead>\n",
       "  <tbody>\n",
       "  </tbody>\n",
       "</table>\n",
       "</div>"
      ],
      "text/plain": [
       "Empty GeoDataFrame\n",
       "Columns: [Neighbourh, Hood_ID, Population, Shape__Are, Shape__Len, geometry, Neighbourhood_Id, Neighbourhood, Total_Population, Average_Family_Income, After-Tax_Household_Income]\n",
       "Index: []"
      ]
     },
     "execution_count": 22,
     "metadata": {},
     "output_type": "execute_result"
    }
   ],
   "source": [
    "neighbourhoods.sample(0)"
   ]
  },
  {
   "cell_type": "code",
   "execution_count": 23,
   "metadata": {},
   "outputs": [],
   "source": [
    "k3_0_df = neighbourhoods.query(\"Average_Family_Income < 68000\")\n",
    "k3_1_df = neighbourhoods.query(\"Average_Family_Income > 68001 & Average_Family_Income < 100000\")\n",
    "k3_2_df = neighbourhoods.query(\"Average_Family_Income > 100001 \")"
   ]
  },
  {
   "cell_type": "code",
   "execution_count": 24,
   "metadata": {},
   "outputs": [
    {
     "data": {
      "text/plain": [
       "(49, 11)"
      ]
     },
     "execution_count": 24,
     "metadata": {},
     "output_type": "execute_result"
    }
   ],
   "source": [
    "k3_0_df.shape"
   ]
  },
  {
   "cell_type": "code",
   "execution_count": 25,
   "metadata": {},
   "outputs": [
    {
     "data": {
      "text/plain": [
       "(61, 11)"
      ]
     },
     "execution_count": 25,
     "metadata": {},
     "output_type": "execute_result"
    }
   ],
   "source": [
    "k3_1_df.shape"
   ]
  },
  {
   "cell_type": "code",
   "execution_count": 26,
   "metadata": {},
   "outputs": [
    {
     "data": {
      "text/plain": [
       "(30, 11)"
      ]
     },
     "execution_count": 26,
     "metadata": {},
     "output_type": "execute_result"
    }
   ],
   "source": [
    "k3_2_df.shape"
   ]
  },
  {
   "cell_type": "code",
   "execution_count": 27,
   "metadata": {},
   "outputs": [
    {
     "data": {
      "text/plain": [
       "(140, 11)"
      ]
     },
     "execution_count": 27,
     "metadata": {},
     "output_type": "execute_result"
    }
   ],
   "source": [
    "neighbourhoods.shape"
   ]
  },
  {
   "cell_type": "markdown",
   "metadata": {},
   "source": [
    "# Collisions\n",
    "\n",
    "from = http://data.torontopolice.on.ca/datasets/ksi/data"
   ]
  },
  {
   "cell_type": "code",
   "execution_count": 28,
   "metadata": {},
   "outputs": [],
   "source": [
    "collisions = gpd.read_file(\"KSI.shp\")"
   ]
  },
  {
   "cell_type": "code",
   "execution_count": 29,
   "metadata": {},
   "outputs": [
    {
     "data": {
      "text/html": [
       "<div>\n",
       "<style scoped>\n",
       "    .dataframe tbody tr th:only-of-type {\n",
       "        vertical-align: middle;\n",
       "    }\n",
       "\n",
       "    .dataframe tbody tr th {\n",
       "        vertical-align: top;\n",
       "    }\n",
       "\n",
       "    .dataframe thead th {\n",
       "        text-align: right;\n",
       "    }\n",
       "</style>\n",
       "<table border=\"1\" class=\"dataframe\">\n",
       "  <thead>\n",
       "    <tr style=\"text-align: right;\">\n",
       "      <th></th>\n",
       "      <th>Index_</th>\n",
       "      <th>ACCNUM</th>\n",
       "      <th>YEAR</th>\n",
       "      <th>DATE</th>\n",
       "      <th>TIME</th>\n",
       "      <th>Hour</th>\n",
       "      <th>STREET1</th>\n",
       "      <th>STREET2</th>\n",
       "      <th>OFFSET</th>\n",
       "      <th>ROAD_CLASS</th>\n",
       "      <th>...</th>\n",
       "      <th>REDLIGHT</th>\n",
       "      <th>ALCOHOL</th>\n",
       "      <th>DISABILITY</th>\n",
       "      <th>Division</th>\n",
       "      <th>Ward_Name</th>\n",
       "      <th>Ward_ID</th>\n",
       "      <th>Hood_ID</th>\n",
       "      <th>Hood_Name</th>\n",
       "      <th>ObjectId</th>\n",
       "      <th>geometry</th>\n",
       "    </tr>\n",
       "  </thead>\n",
       "  <tbody>\n",
       "    <tr>\n",
       "      <th>10528</th>\n",
       "      <td>5247781</td>\n",
       "      <td>1108193</td>\n",
       "      <td>2009</td>\n",
       "      <td>2009-06-05T04:00:00.000Z</td>\n",
       "      <td>1547</td>\n",
       "      <td>15</td>\n",
       "      <td>FINCH AVE W</td>\n",
       "      <td>HALESIA DR</td>\n",
       "      <td>None</td>\n",
       "      <td>Major Arterial</td>\n",
       "      <td>...</td>\n",
       "      <td>None</td>\n",
       "      <td>None</td>\n",
       "      <td>None</td>\n",
       "      <td>23</td>\n",
       "      <td>None</td>\n",
       "      <td>None</td>\n",
       "      <td>1</td>\n",
       "      <td>None</td>\n",
       "      <td>7285</td>\n",
       "      <td>POINT (-79.60668999999999 43.733745)</td>\n",
       "    </tr>\n",
       "    <tr>\n",
       "      <th>6425</th>\n",
       "      <td>5259758</td>\n",
       "      <td>1113557</td>\n",
       "      <td>2009</td>\n",
       "      <td>2009-07-10T04:00:00.000Z</td>\n",
       "      <td>1900</td>\n",
       "      <td>19</td>\n",
       "      <td>KEELE ST</td>\n",
       "      <td>VICTORY DR</td>\n",
       "      <td>None</td>\n",
       "      <td>Major Arterial</td>\n",
       "      <td>...</td>\n",
       "      <td>None</td>\n",
       "      <td>None</td>\n",
       "      <td>None</td>\n",
       "      <td>31</td>\n",
       "      <td>None</td>\n",
       "      <td>None</td>\n",
       "      <td>26</td>\n",
       "      <td>None</td>\n",
       "      <td>9182</td>\n",
       "      <td>POINT (-79.48249 43.728545)</td>\n",
       "    </tr>\n",
       "    <tr>\n",
       "      <th>9420</th>\n",
       "      <td>80244877</td>\n",
       "      <td>5001212779</td>\n",
       "      <td>2015</td>\n",
       "      <td>2015-07-17T04:00:00.000Z</td>\n",
       "      <td>827</td>\n",
       "      <td>8</td>\n",
       "      <td>SPADINA RD</td>\n",
       "      <td>DUPONT ST</td>\n",
       "      <td>None</td>\n",
       "      <td>Major Arterial</td>\n",
       "      <td>...</td>\n",
       "      <td>None</td>\n",
       "      <td>None</td>\n",
       "      <td>None</td>\n",
       "      <td>14,53</td>\n",
       "      <td>None</td>\n",
       "      <td>None</td>\n",
       "      <td>95</td>\n",
       "      <td>None</td>\n",
       "      <td>2177</td>\n",
       "      <td>POINT (-79.40710799999999 43.67484499999998)</td>\n",
       "    </tr>\n",
       "    <tr>\n",
       "      <th>2565</th>\n",
       "      <td>5381214</td>\n",
       "      <td>1047910</td>\n",
       "      <td>2008</td>\n",
       "      <td>2008-07-14T04:00:00.000Z</td>\n",
       "      <td>1337</td>\n",
       "      <td>13</td>\n",
       "      <td>DANFORTH AVE</td>\n",
       "      <td>COXWELL AVE</td>\n",
       "      <td>None</td>\n",
       "      <td>Major Arterial</td>\n",
       "      <td>...</td>\n",
       "      <td>None</td>\n",
       "      <td>None</td>\n",
       "      <td>Yes</td>\n",
       "      <td>54,55</td>\n",
       "      <td>None</td>\n",
       "      <td>None</td>\n",
       "      <td>64</td>\n",
       "      <td>None</td>\n",
       "      <td>5322</td>\n",
       "      <td>POINT (-79.32359 43.683345)</td>\n",
       "    </tr>\n",
       "    <tr>\n",
       "      <th>7151</th>\n",
       "      <td>80512234</td>\n",
       "      <td>6000733806</td>\n",
       "      <td>2016</td>\n",
       "      <td>2016-04-29T04:00:00.000Z</td>\n",
       "      <td>1930</td>\n",
       "      <td>19</td>\n",
       "      <td>MILLWOOD RD</td>\n",
       "      <td>MCRAE DR</td>\n",
       "      <td>63 m West of</td>\n",
       "      <td>Collector</td>\n",
       "      <td>...</td>\n",
       "      <td>None</td>\n",
       "      <td>None</td>\n",
       "      <td>None</td>\n",
       "      <td>53</td>\n",
       "      <td>None</td>\n",
       "      <td>None</td>\n",
       "      <td>56</td>\n",
       "      <td>None</td>\n",
       "      <td>9908</td>\n",
       "      <td>POINT (-79.36903700000001 43.70487799999999)</td>\n",
       "    </tr>\n",
       "  </tbody>\n",
       "</table>\n",
       "<p>5 rows × 56 columns</p>\n",
       "</div>"
      ],
      "text/plain": [
       "         Index_      ACCNUM  YEAR                      DATE  TIME  Hour  \\\n",
       "10528   5247781     1108193  2009  2009-06-05T04:00:00.000Z  1547    15   \n",
       "6425    5259758     1113557  2009  2009-07-10T04:00:00.000Z  1900    19   \n",
       "9420   80244877  5001212779  2015  2015-07-17T04:00:00.000Z   827     8   \n",
       "2565    5381214     1047910  2008  2008-07-14T04:00:00.000Z  1337    13   \n",
       "7151   80512234  6000733806  2016  2016-04-29T04:00:00.000Z  1930    19   \n",
       "\n",
       "            STREET1      STREET2        OFFSET      ROAD_CLASS  ... REDLIGHT  \\\n",
       "10528   FINCH AVE W   HALESIA DR          None  Major Arterial  ...     None   \n",
       "6425       KEELE ST   VICTORY DR          None  Major Arterial  ...     None   \n",
       "9420     SPADINA RD    DUPONT ST          None  Major Arterial  ...     None   \n",
       "2565   DANFORTH AVE  COXWELL AVE          None  Major Arterial  ...     None   \n",
       "7151    MILLWOOD RD     MCRAE DR  63 m West of       Collector  ...     None   \n",
       "\n",
       "       ALCOHOL  DISABILITY Division Ward_Name Ward_ID Hood_ID Hood_Name  \\\n",
       "10528     None        None       23      None    None       1      None   \n",
       "6425      None        None       31      None    None      26      None   \n",
       "9420      None        None    14,53      None    None      95      None   \n",
       "2565      None         Yes    54,55      None    None      64      None   \n",
       "7151      None        None       53      None    None      56      None   \n",
       "\n",
       "      ObjectId                                      geometry  \n",
       "10528     7285          POINT (-79.60668999999999 43.733745)  \n",
       "6425      9182                   POINT (-79.48249 43.728545)  \n",
       "9420      2177  POINT (-79.40710799999999 43.67484499999998)  \n",
       "2565      5322                   POINT (-79.32359 43.683345)  \n",
       "7151      9908  POINT (-79.36903700000001 43.70487799999999)  \n",
       "\n",
       "[5 rows x 56 columns]"
      ]
     },
     "execution_count": 29,
     "metadata": {},
     "output_type": "execute_result"
    }
   ],
   "source": [
    "collisions.sample(5)"
   ]
  },
  {
   "cell_type": "code",
   "execution_count": 30,
   "metadata": {},
   "outputs": [
    {
     "data": {
      "text/plain": [
       "Index(['Index_', 'ACCNUM', 'YEAR', 'DATE', 'TIME', 'Hour', 'STREET1',\n",
       "       'STREET2', 'OFFSET', 'ROAD_CLASS', 'District', 'LATITUDE', 'LONGITUDE',\n",
       "       'LOCCOORD', 'ACCLOC', 'TRAFFCTL', 'VISIBILITY', 'LIGHT', 'RDSFCOND',\n",
       "       'ACCLASS', 'IMPACTYPE', 'INVTYPE', 'INVAGE', 'INJURY', 'FATAL_NO',\n",
       "       'INITDIR', 'VEHTYPE', 'MANOEUVER', 'DRIVACT', 'DRIVCOND', 'PEDTYPE',\n",
       "       'PEDACT', 'PEDCOND', 'CYCLISTYPE', 'CYCACT', 'CYCCOND', 'PEDESTRIAN',\n",
       "       'CYCLIST', 'AUTOMOBILE', 'MOTORCYCLE', 'TRUCK', 'TRSN_CITY_',\n",
       "       'EMERG_VEH', 'PASSENGER', 'SPEEDING', 'AG_DRIV', 'REDLIGHT', 'ALCOHOL',\n",
       "       'DISABILITY', 'Division', 'Ward_Name', 'Ward_ID', 'Hood_ID',\n",
       "       'Hood_Name', 'ObjectId', 'geometry'],\n",
       "      dtype='object')"
      ]
     },
     "execution_count": 30,
     "metadata": {},
     "output_type": "execute_result"
    }
   ],
   "source": [
    "collisions.columns"
   ]
  },
  {
   "cell_type": "code",
   "execution_count": 31,
   "metadata": {},
   "outputs": [],
   "source": [
    "collisions = collisions.drop(columns=[ 'ACCNUM', 'YEAR', 'DATE', 'TIME', 'Hour', 'STREET1',\n",
    "       'STREET2', 'OFFSET', 'ROAD_CLASS', 'District', 'LATITUDE', 'LONGITUDE',\n",
    "       'LOCCOORD', 'ACCLOC', 'TRAFFCTL', 'VISIBILITY', 'LIGHT', 'RDSFCOND', 'IMPACTYPE', 'INVTYPE', 'INVAGE', 'INJURY', 'FATAL_NO',\n",
    "       'INITDIR', 'VEHTYPE', 'MANOEUVER', 'DRIVACT', 'DRIVCOND', 'PEDTYPE',\n",
    "       'PEDACT', 'PEDCOND', 'CYCLISTYPE', 'CYCACT', 'CYCCOND', 'PEDESTRIAN',\n",
    "       'CYCLIST', 'AUTOMOBILE', 'MOTORCYCLE', 'TRUCK', 'TRSN_CITY_',\n",
    "       'EMERG_VEH', 'PASSENGER', 'SPEEDING', 'AG_DRIV', 'REDLIGHT', 'ALCOHOL',\n",
    "       'DISABILITY', 'Division', 'Ward_Name', 'Ward_ID', \n",
    "       'Hood_Name', 'ObjectId'],\n",
    "                            axis=1)"
   ]
  },
  {
   "cell_type": "code",
   "execution_count": 32,
   "metadata": {},
   "outputs": [
    {
     "data": {
      "text/html": [
       "<div>\n",
       "<style scoped>\n",
       "    .dataframe tbody tr th:only-of-type {\n",
       "        vertical-align: middle;\n",
       "    }\n",
       "\n",
       "    .dataframe tbody tr th {\n",
       "        vertical-align: top;\n",
       "    }\n",
       "\n",
       "    .dataframe thead th {\n",
       "        text-align: right;\n",
       "    }\n",
       "</style>\n",
       "<table border=\"1\" class=\"dataframe\">\n",
       "  <thead>\n",
       "    <tr style=\"text-align: right;\">\n",
       "      <th></th>\n",
       "      <th>Index_</th>\n",
       "      <th>ACCLASS</th>\n",
       "      <th>Hood_ID</th>\n",
       "      <th>geometry</th>\n",
       "    </tr>\n",
       "  </thead>\n",
       "  <tbody>\n",
       "    <tr>\n",
       "      <th>2891</th>\n",
       "      <td>6624105</td>\n",
       "      <td>Non-Fatal Injury</td>\n",
       "      <td>40</td>\n",
       "      <td>POINT (-79.40669 43.74414499999999)</td>\n",
       "    </tr>\n",
       "    <tr>\n",
       "      <th>7208</th>\n",
       "      <td>80000027</td>\n",
       "      <td>Fatal</td>\n",
       "      <td>11</td>\n",
       "      <td>POINT (-79.58357599999999 43.66046399999999)</td>\n",
       "    </tr>\n",
       "    <tr>\n",
       "      <th>7200</th>\n",
       "      <td>6101710</td>\n",
       "      <td>Non-Fatal Injury</td>\n",
       "      <td>127</td>\n",
       "      <td>POINT (-79.24448999999998 43.74954499999999)</td>\n",
       "    </tr>\n",
       "    <tr>\n",
       "      <th>5616</th>\n",
       "      <td>6723382</td>\n",
       "      <td>Non-Fatal Injury</td>\n",
       "      <td>76</td>\n",
       "      <td>POINT (-79.37899 43.65164499999999)</td>\n",
       "    </tr>\n",
       "    <tr>\n",
       "      <th>3161</th>\n",
       "      <td>5385700</td>\n",
       "      <td>Non-Fatal Injury</td>\n",
       "      <td>127</td>\n",
       "      <td>POINT (-79.25199000000001 43.745445)</td>\n",
       "    </tr>\n",
       "  </tbody>\n",
       "</table>\n",
       "</div>"
      ],
      "text/plain": [
       "        Index_           ACCLASS  Hood_ID  \\\n",
       "2891   6624105  Non-Fatal Injury       40   \n",
       "7208  80000027             Fatal       11   \n",
       "7200   6101710  Non-Fatal Injury      127   \n",
       "5616   6723382  Non-Fatal Injury       76   \n",
       "3161   5385700  Non-Fatal Injury      127   \n",
       "\n",
       "                                          geometry  \n",
       "2891           POINT (-79.40669 43.74414499999999)  \n",
       "7208  POINT (-79.58357599999999 43.66046399999999)  \n",
       "7200  POINT (-79.24448999999998 43.74954499999999)  \n",
       "5616           POINT (-79.37899 43.65164499999999)  \n",
       "3161          POINT (-79.25199000000001 43.745445)  "
      ]
     },
     "execution_count": 32,
     "metadata": {},
     "output_type": "execute_result"
    }
   ],
   "source": [
    "collisions.sample(5)"
   ]
  },
  {
   "cell_type": "code",
   "execution_count": 33,
   "metadata": {},
   "outputs": [
    {
     "data": {
      "text/plain": [
       "Non-Fatal Injury    10538\n",
       "Fatal                1706\n",
       "Name: ACCLASS, dtype: int64"
      ]
     },
     "execution_count": 33,
     "metadata": {},
     "output_type": "execute_result"
    }
   ],
   "source": [
    "collisions.ACCLASS.value_counts()"
   ]
  },
  {
   "cell_type": "code",
   "execution_count": 34,
   "metadata": {},
   "outputs": [],
   "source": [
    "major = collisions.query(\"ACCLASS == 'Fatal'\")\n",
    "minor = collisions.query(\"ACCLASS == 'Non-Fatal Injury'\")"
   ]
  },
  {
   "cell_type": "code",
   "execution_count": 35,
   "metadata": {},
   "outputs": [
    {
     "data": {
      "text/plain": [
       "{'init': 'epsg:4326'}"
      ]
     },
     "execution_count": 35,
     "metadata": {},
     "output_type": "execute_result"
    }
   ],
   "source": [
    "collisions.crs"
   ]
  },
  {
   "cell_type": "markdown",
   "metadata": {},
   "source": [
    "# Sidewalks\n",
    "\n",
    "from: https://www.toronto.ca/city-government/data-research-maps/open-data/open-data-catalogue/locations-and-mapping/#3763d352-5f0a-4385-4cec-f255d4860ea5"
   ]
  },
  {
   "cell_type": "code",
   "execution_count": 36,
   "metadata": {},
   "outputs": [],
   "source": [
    "sidewalks = gpd.read_file(\"Sidewalk_Inventory_wgs84.shp\")"
   ]
  },
  {
   "cell_type": "code",
   "execution_count": 37,
   "metadata": {},
   "outputs": [
    {
     "data": {
      "text/plain": [
       "{'init': 'epsg:4326'}"
      ]
     },
     "execution_count": 37,
     "metadata": {},
     "output_type": "execute_result"
    }
   ],
   "source": [
    "sidewalks.crs"
   ]
  },
  {
   "cell_type": "code",
   "execution_count": 38,
   "metadata": {},
   "outputs": [
    {
     "data": {
      "text/html": [
       "<div>\n",
       "<style scoped>\n",
       "    .dataframe tbody tr th:only-of-type {\n",
       "        vertical-align: middle;\n",
       "    }\n",
       "\n",
       "    .dataframe tbody tr th {\n",
       "        vertical-align: top;\n",
       "    }\n",
       "\n",
       "    .dataframe thead th {\n",
       "        text-align: right;\n",
       "    }\n",
       "</style>\n",
       "<table border=\"1\" class=\"dataframe\">\n",
       "  <thead>\n",
       "    <tr style=\"text-align: right;\">\n",
       "      <th></th>\n",
       "      <th>LINEAR_N_1</th>\n",
       "      <th>LINEAR_N_2</th>\n",
       "      <th>ADDRESS_L</th>\n",
       "      <th>ADDRESS_R</th>\n",
       "      <th>LINEAR_N_3</th>\n",
       "      <th>LINEAR_N_4</th>\n",
       "      <th>LINEAR_N_5</th>\n",
       "      <th>LINEAR_N_6</th>\n",
       "      <th>JURISDICTI</th>\n",
       "      <th>SDWLK_Code</th>\n",
       "      <th>Partial</th>\n",
       "      <th>Multiuse</th>\n",
       "      <th>Road_Type</th>\n",
       "      <th>SDWLK_DESC</th>\n",
       "      <th>Shape_Leng</th>\n",
       "      <th>GEO_ID</th>\n",
       "      <th>geometry</th>\n",
       "    </tr>\n",
       "  </thead>\n",
       "  <tbody>\n",
       "    <tr>\n",
       "      <th>61498</th>\n",
       "      <td>Dairy Dr</td>\n",
       "      <td>Dairy Drive</td>\n",
       "      <td>15-19</td>\n",
       "      <td>10-10</td>\n",
       "      <td>Dairy</td>\n",
       "      <td>Dr</td>\n",
       "      <td>None</td>\n",
       "      <td>None</td>\n",
       "      <td>CITY OF TORONTO</td>\n",
       "      <td>6</td>\n",
       "      <td>0</td>\n",
       "      <td>0</td>\n",
       "      <td>Pending</td>\n",
       "      <td>Roadway under development</td>\n",
       "      <td>44.058843</td>\n",
       "      <td>30075122.0</td>\n",
       "      <td>LINESTRING (-79.2732110445212 43.7008395213857...</td>\n",
       "    </tr>\n",
       "    <tr>\n",
       "      <th>41035</th>\n",
       "      <td>Grosvenor St</td>\n",
       "      <td>Grosvenor Street</td>\n",
       "      <td>3-3</td>\n",
       "      <td>2-2</td>\n",
       "      <td>Grosvenor</td>\n",
       "      <td>St</td>\n",
       "      <td>None</td>\n",
       "      <td>None</td>\n",
       "      <td>CITY OF TORONTO</td>\n",
       "      <td>7</td>\n",
       "      <td>0</td>\n",
       "      <td>0</td>\n",
       "      <td>Collector</td>\n",
       "      <td>Sidewalk on both sides</td>\n",
       "      <td>51.873855</td>\n",
       "      <td>14020343.0</td>\n",
       "      <td>LINESTRING (-79.38398803769432 43.662966001445...</td>\n",
       "    </tr>\n",
       "    <tr>\n",
       "      <th>20329</th>\n",
       "      <td>Mission Dr</td>\n",
       "      <td>Mission Drive</td>\n",
       "      <td>None</td>\n",
       "      <td>None</td>\n",
       "      <td>Mission</td>\n",
       "      <td>Dr</td>\n",
       "      <td>None</td>\n",
       "      <td>None</td>\n",
       "      <td>CITY OF TORONTO</td>\n",
       "      <td>3</td>\n",
       "      <td>0</td>\n",
       "      <td>0</td>\n",
       "      <td>Local</td>\n",
       "      <td>No sidewalk on either side</td>\n",
       "      <td>85.345270</td>\n",
       "      <td>441335.0</td>\n",
       "      <td>LINESTRING (-79.31741675665465 43.747642849247...</td>\n",
       "    </tr>\n",
       "    <tr>\n",
       "      <th>13258</th>\n",
       "      <td>The Esplanade</td>\n",
       "      <td>The Esplanade</td>\n",
       "      <td>94-118</td>\n",
       "      <td>105-115</td>\n",
       "      <td>The Esplanade</td>\n",
       "      <td>None</td>\n",
       "      <td>None</td>\n",
       "      <td>None</td>\n",
       "      <td>CITY OF TORONTO</td>\n",
       "      <td>7</td>\n",
       "      <td>0</td>\n",
       "      <td>0</td>\n",
       "      <td>Collector</td>\n",
       "      <td>Sidewalk on both sides</td>\n",
       "      <td>96.602211</td>\n",
       "      <td>10011044.0</td>\n",
       "      <td>LINESTRING (-79.37292952973391 43.647495209924...</td>\n",
       "    </tr>\n",
       "    <tr>\n",
       "      <th>9194</th>\n",
       "      <td>Hartley Ave</td>\n",
       "      <td>Hartley Avenue</td>\n",
       "      <td>4-4</td>\n",
       "      <td>None</td>\n",
       "      <td>Hartley</td>\n",
       "      <td>Ave</td>\n",
       "      <td>None</td>\n",
       "      <td>None</td>\n",
       "      <td>CITY OF TORONTO</td>\n",
       "      <td>7</td>\n",
       "      <td>0</td>\n",
       "      <td>0</td>\n",
       "      <td>Local</td>\n",
       "      <td>Sidewalk on both sides</td>\n",
       "      <td>49.542109</td>\n",
       "      <td>14068746.0</td>\n",
       "      <td>LINESTRING (-79.45415361514596 43.694820814700...</td>\n",
       "    </tr>\n",
       "  </tbody>\n",
       "</table>\n",
       "</div>"
      ],
      "text/plain": [
       "          LINEAR_N_1        LINEAR_N_2 ADDRESS_L ADDRESS_R     LINEAR_N_3  \\\n",
       "61498       Dairy Dr       Dairy Drive     15-19     10-10          Dairy   \n",
       "41035   Grosvenor St  Grosvenor Street       3-3       2-2      Grosvenor   \n",
       "20329     Mission Dr     Mission Drive      None      None        Mission   \n",
       "13258  The Esplanade     The Esplanade    94-118   105-115  The Esplanade   \n",
       "9194     Hartley Ave    Hartley Avenue       4-4      None        Hartley   \n",
       "\n",
       "      LINEAR_N_4 LINEAR_N_5 LINEAR_N_6       JURISDICTI  SDWLK_Code  Partial  \\\n",
       "61498         Dr       None       None  CITY OF TORONTO           6        0   \n",
       "41035         St       None       None  CITY OF TORONTO           7        0   \n",
       "20329         Dr       None       None  CITY OF TORONTO           3        0   \n",
       "13258       None       None       None  CITY OF TORONTO           7        0   \n",
       "9194         Ave       None       None  CITY OF TORONTO           7        0   \n",
       "\n",
       "       Multiuse  Road_Type                  SDWLK_DESC  Shape_Leng  \\\n",
       "61498         0    Pending   Roadway under development   44.058843   \n",
       "41035         0  Collector      Sidewalk on both sides   51.873855   \n",
       "20329         0      Local  No sidewalk on either side   85.345270   \n",
       "13258         0  Collector      Sidewalk on both sides   96.602211   \n",
       "9194          0      Local      Sidewalk on both sides   49.542109   \n",
       "\n",
       "           GEO_ID                                           geometry  \n",
       "61498  30075122.0  LINESTRING (-79.2732110445212 43.7008395213857...  \n",
       "41035  14020343.0  LINESTRING (-79.38398803769432 43.662966001445...  \n",
       "20329    441335.0  LINESTRING (-79.31741675665465 43.747642849247...  \n",
       "13258  10011044.0  LINESTRING (-79.37292952973391 43.647495209924...  \n",
       "9194   14068746.0  LINESTRING (-79.45415361514596 43.694820814700...  "
      ]
     },
     "execution_count": 38,
     "metadata": {},
     "output_type": "execute_result"
    }
   ],
   "source": [
    "sidewalks.sample(5)"
   ]
  },
  {
   "cell_type": "code",
   "execution_count": 39,
   "metadata": {},
   "outputs": [
    {
     "data": {
      "text/plain": [
       "Index(['LINEAR_N_1', 'LINEAR_N_2', 'ADDRESS_L', 'ADDRESS_R', 'LINEAR_N_3',\n",
       "       'LINEAR_N_4', 'LINEAR_N_5', 'LINEAR_N_6', 'JURISDICTI', 'SDWLK_Code',\n",
       "       'Partial', 'Multiuse', 'Road_Type', 'SDWLK_DESC', 'Shape_Leng',\n",
       "       'GEO_ID', 'geometry'],\n",
       "      dtype='object')"
      ]
     },
     "execution_count": 39,
     "metadata": {},
     "output_type": "execute_result"
    }
   ],
   "source": [
    "sidewalks.columns"
   ]
  },
  {
   "cell_type": "code",
   "execution_count": 40,
   "metadata": {},
   "outputs": [],
   "source": [
    "sidewalks=sidewalks.drop(columns=['LINEAR_N_1', 'LINEAR_N_2', 'ADDRESS_L', 'ADDRESS_R', 'LINEAR_N_3',\n",
    "       'LINEAR_N_4', 'LINEAR_N_5', 'LINEAR_N_6', 'JURISDICTI', 'SDWLK_Code',\n",
    "       'Partial', 'Multiuse', 'SDWLK_DESC', 'Shape_Leng',\n",
    "       'GEO_ID'])"
   ]
  },
  {
   "cell_type": "code",
   "execution_count": 41,
   "metadata": {},
   "outputs": [
    {
     "data": {
      "text/plain": [
       "Local                            24377\n",
       "Trail                             6837\n",
       "Collector                         6267\n",
       "Major Arterial                    5983\n",
       "Geostatistical line               4162\n",
       "Laneway                           4109\n",
       "Minor Arterial                    3530\n",
       "Other                             2034\n",
       "Expressway                        1452\n",
       "Expressway Ramp                   1268\n",
       "River                             1004\n",
       "Major Railway                      827\n",
       "Pending                            809\n",
       "Hydro Line                         649\n",
       "Pathway                            621\n",
       "Walkway                            330\n",
       "Major Shoreline                    252\n",
       "Major Arterial Ramp                205\n",
       "Access Road                         38\n",
       "Creek/Tributary                     20\n",
       "Ferry Route                         19\n",
       "Collector Ramp                      17\n",
       "Minor Railway                       16\n",
       "Other Ramp                          12\n",
       "Busway                              10\n",
       "Minor Arterial Ramp                  3\n",
       "Minor Shoreline (Land locked)        2\n",
       "Name: Road_Type, dtype: int64"
      ]
     },
     "execution_count": 41,
     "metadata": {},
     "output_type": "execute_result"
    }
   ],
   "source": [
    "sidewalks.Road_Type.value_counts()"
   ]
  },
  {
   "cell_type": "code",
   "execution_count": 42,
   "metadata": {},
   "outputs": [],
   "source": [
    "roads_local = sidewalks.query(\"Road_Type == 'Local'\")\n",
    "roads_collector = sidewalks.query(\"Road_Type == 'Collector'\")\n",
    "roads_major_arterial = sidewalks.query(\"Road_Type == 'Major Arterial'\")\n",
    "roads_minor_arterial = sidewalks.query(\"Road_Type == 'Minor Arterial'\")\n",
    "roads_Expressway = sidewalks.query(\"Road_Type == 'Expressway'\")\n",
    "roads_Ex_ramp = sidewalks.query(\"Road_Type == 'Expressway Ramp'\")"
   ]
  },
  {
   "cell_type": "markdown",
   "metadata": {},
   "source": [
    "# Mapping Time"
   ]
  },
  {
   "cell_type": "code",
   "execution_count": 55,
   "metadata": {},
   "outputs": [],
   "source": [
    "m = folium.Map(location=[43.65, -79.38], zoom_start=11)"
   ]
  },
  {
   "cell_type": "code",
   "execution_count": 56,
   "metadata": {},
   "outputs": [
    {
     "data": {
      "text/plain": [
       "<folium.raster_layers.TileLayer at 0x12221ff98>"
      ]
     },
     "execution_count": 56,
     "metadata": {},
     "output_type": "execute_result"
    }
   ],
   "source": [
    "folium.TileLayer('openstreetmap').add_to(m)\n",
    "folium.TileLayer('cartodbdark_matter').add_to(m)"
   ]
  },
  {
   "cell_type": "code",
   "execution_count": 45,
   "metadata": {},
   "outputs": [],
   "source": [
    "road_dfs = {\"Local Roads\":roads_local, \n",
    "            \"Collector Roads\":roads_collector, \n",
    "            \"Roads Major Arterial\":roads_major_arterial,\n",
    "                   \"Roads Minor Arterial\":roads_minor_arterial,\n",
    "            \"Expressways\":roads_Expressway, \n",
    "            \"Expressway Ramps\":roads_Ex_ramp                  }"
   ]
  },
  {
   "cell_type": "code",
   "execution_count": 46,
   "metadata": {},
   "outputs": [],
   "source": [
    "road_types = list(road_dfs.keys())"
   ]
  },
  {
   "cell_type": "code",
   "execution_count": 47,
   "metadata": {},
   "outputs": [
    {
     "data": {
      "text/plain": [
       "6"
      ]
     },
     "execution_count": 47,
     "metadata": {},
     "output_type": "execute_result"
    }
   ],
   "source": [
    "len(road_types)"
   ]
  },
  {
   "cell_type": "code",
   "execution_count": 48,
   "metadata": {},
   "outputs": [],
   "source": [
    "#colorbrewer palette\n",
    "cb = ['#a6cee3','#1f78b4','#b2df8a','#33a02c','#fb9a99','#e31a1c','#fdbf6f','#ff7f00','#cab2d6','#6a3d9a']"
   ]
  },
  {
   "cell_type": "code",
   "execution_count": 57,
   "metadata": {},
   "outputs": [
    {
     "data": {
      "text/plain": [
       "<folium.features.GeoJson at 0x1223604e0>"
      ]
     },
     "execution_count": 57,
     "metadata": {},
     "output_type": "execute_result"
    }
   ],
   "source": [
    "#adding road type layers\n",
    "#folium.GeoJson(road_dfs[road_types[0]],\n",
    "#               name=road_types[0],\n",
    "#               style_function=lambda x: {'weight':4,'color':cb[0],'dashArray':'1 3'},\n",
    "#               highlight_function=lambda x: {'weight':8,'color':cb[0], 'dashArray':'1 7'},\n",
    "#               smooth_factor=5.0,\n",
    "#               show=False\n",
    "#          ).add_to(m)\n",
    "\n",
    "folium.GeoJson(road_dfs[road_types[1]],\n",
    "               name=road_types[1],\n",
    "               style_function=lambda x: {'weight':4,'color':cb[1],'dashArray':'1 3'},\n",
    "               highlight_function=lambda x: {'weight':8,'color':cb[1], 'dashArray':'1 7'},\n",
    "               smooth_factor=5.0,\n",
    "               show=False\n",
    "          ).add_to(m)\n",
    "\n",
    "folium.GeoJson(road_dfs[road_types[2]],\n",
    "               name=road_types[2],\n",
    "               style_function=lambda x: {'weight':4,'color':cb[2],'dashArray':'1 3'},\n",
    "               highlight_function=lambda x: {'weight':8,'color':cb[2], 'dashArray':'1 7'},\n",
    "               smooth_factor=5.0,\n",
    "               show=False\n",
    "          ).add_to(m)\n",
    "\n",
    "folium.GeoJson(road_dfs[road_types[3]],\n",
    "               name=road_types[3],\n",
    "               style_function=lambda x: {'weight':4,'color':cb[3],'dashArray':'1 3'},\n",
    "               highlight_function=lambda x: {'weight':8,'color':cb[3], 'dashArray':'1 7'},\n",
    "               smooth_factor=5.0,\n",
    "               show=False\n",
    "          ).add_to(m)\n",
    "\n",
    "\n",
    "folium.GeoJson(road_dfs[road_types[4]],\n",
    "               name=road_types[4],\n",
    "               style_function=lambda x: {'weight':4,'color':cb[4],'dashArray':'1 3'},\n",
    "               highlight_function=lambda x: {'weight':8,'color':cb[4], 'dashArray':'1 7'},\n",
    "               smooth_factor=5.0,\n",
    "               show=False\n",
    "          ).add_to(m)\n",
    "\n",
    "folium.GeoJson(road_dfs[road_types[5]],\n",
    "               name=road_types[5],\n",
    "               style_function=lambda x: {'weight':4,'color':cb[5],'dashArray':'1 3'},\n",
    "               highlight_function=lambda x: {'weight':8,'color':cb[5], 'dashArray':'1 7'},\n",
    "               smooth_factor=5.0,\n",
    "               show=False\n",
    "          ).add_to(m)"
   ]
  },
  {
   "cell_type": "code",
   "execution_count": 50,
   "metadata": {},
   "outputs": [
    {
     "data": {
      "text/plain": [
       "<folium.features.GeoJsonTooltip at 0x11f8bd3c8>"
      ]
     },
     "execution_count": 50,
     "metadata": {},
     "output_type": "execute_result"
    }
   ],
   "source": [
    "#creating a geojson object with neighbourhood polygons to shade by median income and add to the base plot `m`.\n",
    "neighbourhoods_shapes = folium.Choropleth(\n",
    "    geo_data=neighbourhoods,\n",
    "    name='Mean Income by Neighbourhood (2014)', #this text appears in the layercontrol\n",
    "    data=neighbourhoods, #this is our df\n",
    "    columns=['Neighbourh', 'Average_Family_Income'], #which fields to map via choropleth\n",
    "    key_on='feature.properties.Neighbourh',  #key id\n",
    "    fill_color='BuPu',\n",
    "    fill_opacity=0.6,\n",
    "    line_opacity=0.5,\n",
    "    color='black',\n",
    "    highlight=True,\n",
    "    legend_name='Mean Income by Neighbourhood (2014)'\n",
    ").add_to(m)\n",
    "\n",
    "#adding tooltip with neighbourhood name and median income to the polygon objects above\n",
    "folium.features.GeoJsonTooltip(fields=['Neighbourh', 'Average_Family_Income'],\n",
    "                               aliases=['Neighbourhood','Mean Income'],\n",
    "                               labels=True, \n",
    "                               sticky=True,\n",
    "                               localize=True\n",
    "                              ).add_to(neighbourhoods_shapes.geojson)"
   ]
  },
  {
   "cell_type": "code",
   "execution_count": 58,
   "metadata": {},
   "outputs": [],
   "source": [
    "#adding marker cluster plugin to map\n",
    "mc = MarkerCluster(name='Base Layer', control=False)\n",
    "m.add_child(mc)\n",
    "\n",
    "#creating subgroups for Minor collisions, Major & Fatal collisions so they can be toggled on/off.\n",
    "group_minor = FeatureGroupSubGroup(mc, 'Minor Collisions', show=False)\n",
    "m.add_child(group_minor)\n",
    "\n",
    "group_major = FeatureGroupSubGroup(mc, 'Major & Fatal Collisions', show=False)\n",
    "m.add_child(group_major)\n",
    "\n",
    "#adding markers per group\n",
    "for intersection in major.iterrows():\n",
    "\n",
    "        coord = (round(intersection[1].geometry.y,4),\n",
    "                round(intersection[1].geometry.x,4))\n",
    "\n",
    "        int_name = \"Intersection \"+str(intersection[1].Index_)\n",
    "\n",
    "        folium.Marker(coord,\n",
    "                      popup= int_name,\n",
    "                      name= int_name).add_to(group_major)\n",
    "\n",
    "for intersection in minor.iterrows():\n",
    "\n",
    "    coord = (round(intersection[1].geometry.y,4),\n",
    "            round(intersection[1].geometry.x,4))\n",
    "\n",
    "    int_name = \"Intersection \"+str(intersection[1].Index_)\n",
    "\n",
    "    folium.Marker(coord,\n",
    "                  popup= int_name,\n",
    "                  name= int_name).add_to(group_minor)"
   ]
  },
  {
   "cell_type": "code",
   "execution_count": 59,
   "metadata": {},
   "outputs": [
    {
     "data": {
      "text/plain": [
       "<folium.features.GeoJsonTooltip at 0x123113978>"
      ]
     },
     "execution_count": 59,
     "metadata": {},
     "output_type": "execute_result"
    }
   ],
   "source": [
    "# k3\n",
    "\n",
    "#adding clusters\n",
    "\n",
    "#k8\n",
    "k3_0 = folium.Choropleth(\n",
    "    geo_data=k3_0_df,\n",
    "    name='k=3, Group 0',\n",
    "    fill_color=cb[0],\n",
    "    fill_opacity=0.65,\n",
    "    show=False,\n",
    "    line_weight=2).add_to(m)\n",
    "\n",
    "folium.features.GeoJsonTooltip(fields=['Neighbourh', 'Average_Family_Income'],\n",
    "                               aliases=['Neighbourhood','Mean Income'],\n",
    "                               labels=True, \n",
    "                               sticky=False,\n",
    "                               localize=True\n",
    "                              ).add_to(k3_0.geojson)\n",
    "\n",
    "k3_1 = folium.Choropleth(\n",
    "    geo_data=k3_1_df,\n",
    "    name='k=3, Group 1',\n",
    "    fill_color=cb[1],\n",
    "    fill_opacity=0.65,\n",
    "    show=False,\n",
    "    line_weight=2).add_to(m)\n",
    "\n",
    "folium.features.GeoJsonTooltip(fields=['Neighbourh', 'Average_Family_Income'],\n",
    "                               aliases=['Neighbourhood','Mean Income'],\n",
    "                               labels=True, \n",
    "                               sticky=False,\n",
    "                               localize=True\n",
    "                              ).add_to(k3_1.geojson)\n",
    "\n",
    "k3_2 = folium.Choropleth(\n",
    "    geo_data=k3_2_df,\n",
    "    name='k=3, Group 2',\n",
    "    fill_color=cb[2],\n",
    "    fill_opacity=0.65,\n",
    "    show=False,\n",
    "    line_weight=2).add_to(m)\n",
    "\n",
    "folium.features.GeoJsonTooltip(fields=['Neighbourh', 'Average_Family_Income'],\n",
    "                               aliases=['Neighbourhood','Mean Income'],\n",
    "                               labels=True, \n",
    "                               sticky=False,\n",
    "                               localize=True\n",
    "                              ).add_to(k3_2.geojson)"
   ]
  },
  {
   "cell_type": "code",
   "execution_count": 60,
   "metadata": {},
   "outputs": [
    {
     "data": {
      "text/plain": [
       "<folium.map.LayerControl at 0x122224748>"
      ]
     },
     "execution_count": 60,
     "metadata": {},
     "output_type": "execute_result"
    }
   ],
   "source": [
    "#adding layer control for toggling layers on and off\n",
    "\n",
    "folium.LayerControl().add_to(m)"
   ]
  },
  {
   "cell_type": "code",
   "execution_count": 61,
   "metadata": {},
   "outputs": [
    {
     "name": "stdout",
     "output_type": "stream",
     "text": [
      "saved!\n"
     ]
    }
   ],
   "source": [
    "m.save(\"toronto.html\")\n",
    "print('saved!')"
   ]
  },
  {
   "cell_type": "code",
   "execution_count": null,
   "metadata": {},
   "outputs": [],
   "source": []
  },
  {
   "cell_type": "code",
   "execution_count": null,
   "metadata": {},
   "outputs": [],
   "source": []
  }
 ],
 "metadata": {
  "kernelspec": {
   "display_name": "Python 3",
   "language": "python",
   "name": "python3"
  },
  "language_info": {
   "codemirror_mode": {
    "name": "ipython",
    "version": 3
   },
   "file_extension": ".py",
   "mimetype": "text/x-python",
   "name": "python",
   "nbconvert_exporter": "python",
   "pygments_lexer": "ipython3",
   "version": "3.6.8"
  }
 },
 "nbformat": 4,
 "nbformat_minor": 2
}
